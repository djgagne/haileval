{
 "cells": [
  {
   "cell_type": "code",
   "execution_count": 1,
   "metadata": {},
   "outputs": [],
   "source": [
    "%matplotlib inline\n",
    "import pandas as pd\n",
    "import numpy as np\n",
    "import matplotlib.pyplot as plt\n",
    "from os.path import exists, join\n",
    "from sklearn.cluster import DBSCAN, KMeans, AgglomerativeClustering\n",
    "from sklearn.metrics import silhouette_score\n",
    "from mpl_toolkits.basemap import Basemap\n",
    "from ipywidgets import interact, IntSlider, SelectionSlider"
   ]
  },
  {
   "cell_type": "code",
   "execution_count": 2,
   "metadata": {},
   "outputs": [],
   "source": [
    "def load_forecast_track_steps(run_dates, members, ens_name, path):\n",
    "    track_step_list = []\n",
    "    for run_date in run_dates:\n",
    "        for member in members:\n",
    "            filename = join(path, \"track_step_{0}_{1}_{2}.csv\".format(ens_name, member, run_date.strftime(\"%Y%m%d\")))\n",
    "            if exists(filename):\n",
    "                track_step_list.append(pd.read_csv(filename, parse_dates=[\"Date\"]))\n",
    "                track_step_list[-1][\"Run_Date\"] = pd.Timestamp(run_date)\n",
    "                track_step_list[-1][\"Member\"] = member\n",
    "            else:\n",
    "                print(run_date, member, \" Missing\")\n",
    "    return pd.concat(track_step_list, ignore_index=True)\n",
    "\n",
    "def load_obs_track_steps(run_dates, member, path):\n",
    "    track_step_list = []\n",
    "    for run_date in run_dates:\n",
    "        filename = join(path, \"track_step_{0}_{1}_{2}.csv\".format(\"obs\", member, run_date.strftime(\"%Y%m%d\")))\n",
    "        if exists(filename):\n",
    "            track_step_list.append(pd.read_csv(filename, parse_dates=[\"Date\"]))\n",
    "            track_step_list[-1][\"Run_Date\"] = pd.Timestamp(run_date)\n",
    "        else:\n",
    "            print(run_date, member, \" Missing\")\n",
    "    return pd.concat(track_step_list, ignore_index=True)"
   ]
  },
  {
   "cell_type": "code",
   "execution_count": 3,
   "metadata": {
    "scrolled": false
   },
   "outputs": [
    {
     "name": "stdout",
     "output_type": "stream",
     "text": [
      "2016-05-07 00:00:00 wrf-core01_arw  Missing\n",
      "2016-05-07 00:00:00 wrf-core03_arw  Missing\n",
      "2016-05-07 00:00:00 wrf-core04_arw  Missing\n",
      "2016-05-07 00:00:00 wrf-core05_arw  Missing\n",
      "2016-05-07 00:00:00 wrf-core06_arw  Missing\n",
      "2016-05-07 00:00:00 wrf-core07_arw  Missing\n",
      "2016-05-07 00:00:00 wrf-core08_arw  Missing\n",
      "2016-05-07 00:00:00 wrf-core09_arw  Missing\n",
      "2016-05-07 00:00:00 wrf-core10_arw  Missing\n",
      "2016-05-08 00:00:00 wrf-core01_arw  Missing\n",
      "2016-05-08 00:00:00 wrf-core03_arw  Missing\n",
      "2016-05-08 00:00:00 wrf-core04_arw  Missing\n",
      "2016-05-08 00:00:00 wrf-core05_arw  Missing\n",
      "2016-05-08 00:00:00 wrf-core06_arw  Missing\n",
      "2016-05-08 00:00:00 wrf-core07_arw  Missing\n",
      "2016-05-08 00:00:00 wrf-core08_arw  Missing\n",
      "2016-05-08 00:00:00 wrf-core09_arw  Missing\n",
      "2016-05-08 00:00:00 wrf-core10_arw  Missing\n",
      "2016-05-09 00:00:00 wrf-core10_arw  Missing\n",
      "2016-05-11 00:00:00 wrf-core03_arw  Missing\n",
      "2016-05-11 00:00:00 wrf-core06_arw  Missing\n",
      "2016-05-12 00:00:00 wrf-core03_arw  Missing\n",
      "2016-05-12 00:00:00 wrf-core06_arw  Missing\n",
      "2016-05-14 00:00:00 wrf-core01_arw  Missing\n",
      "2016-05-14 00:00:00 wrf-core03_arw  Missing\n",
      "2016-05-14 00:00:00 wrf-core04_arw  Missing\n",
      "2016-05-14 00:00:00 wrf-core05_arw  Missing\n",
      "2016-05-14 00:00:00 wrf-core06_arw  Missing\n",
      "2016-05-14 00:00:00 wrf-core07_arw  Missing\n",
      "2016-05-14 00:00:00 wrf-core08_arw  Missing\n",
      "2016-05-14 00:00:00 wrf-core09_arw  Missing\n",
      "2016-05-14 00:00:00 wrf-core10_arw  Missing\n",
      "2016-05-15 00:00:00 wrf-core01_arw  Missing\n",
      "2016-05-15 00:00:00 wrf-core03_arw  Missing\n",
      "2016-05-15 00:00:00 wrf-core04_arw  Missing\n",
      "2016-05-15 00:00:00 wrf-core05_arw  Missing\n",
      "2016-05-15 00:00:00 wrf-core06_arw  Missing\n",
      "2016-05-15 00:00:00 wrf-core07_arw  Missing\n",
      "2016-05-15 00:00:00 wrf-core08_arw  Missing\n",
      "2016-05-15 00:00:00 wrf-core09_arw  Missing\n",
      "2016-05-15 00:00:00 wrf-core10_arw  Missing\n",
      "2016-05-18 00:00:00 wrf-core03_arw  Missing\n",
      "2016-05-18 00:00:00 wrf-core04_arw  Missing\n",
      "2016-05-21 00:00:00 wrf-core01_arw  Missing\n",
      "2016-05-21 00:00:00 wrf-core03_arw  Missing\n",
      "2016-05-21 00:00:00 wrf-core04_arw  Missing\n",
      "2016-05-21 00:00:00 wrf-core05_arw  Missing\n",
      "2016-05-21 00:00:00 wrf-core06_arw  Missing\n",
      "2016-05-21 00:00:00 wrf-core07_arw  Missing\n",
      "2016-05-21 00:00:00 wrf-core08_arw  Missing\n",
      "2016-05-21 00:00:00 wrf-core09_arw  Missing\n",
      "2016-05-21 00:00:00 wrf-core10_arw  Missing\n",
      "2016-05-22 00:00:00 wrf-core01_arw  Missing\n",
      "2016-05-22 00:00:00 wrf-core03_arw  Missing\n",
      "2016-05-22 00:00:00 wrf-core04_arw  Missing\n",
      "2016-05-22 00:00:00 wrf-core05_arw  Missing\n",
      "2016-05-22 00:00:00 wrf-core06_arw  Missing\n",
      "2016-05-22 00:00:00 wrf-core07_arw  Missing\n",
      "2016-05-22 00:00:00 wrf-core08_arw  Missing\n",
      "2016-05-22 00:00:00 wrf-core09_arw  Missing\n",
      "2016-05-22 00:00:00 wrf-core10_arw  Missing\n",
      "2016-05-24 00:00:00 wrf-core06_arw  Missing\n",
      "2016-05-25 00:00:00 wrf-core03_arw  Missing\n",
      "2016-05-26 00:00:00 wrf-core03_arw  Missing\n",
      "2016-05-26 00:00:00 wrf-core06_arw  Missing\n",
      "2016-05-28 00:00:00 wrf-core01_arw  Missing\n",
      "2016-05-28 00:00:00 wrf-core03_arw  Missing\n",
      "2016-05-28 00:00:00 wrf-core04_arw  Missing\n",
      "2016-05-28 00:00:00 wrf-core05_arw  Missing\n",
      "2016-05-28 00:00:00 wrf-core06_arw  Missing\n",
      "2016-05-28 00:00:00 wrf-core07_arw  Missing\n",
      "2016-05-28 00:00:00 wrf-core08_arw  Missing\n",
      "2016-05-28 00:00:00 wrf-core09_arw  Missing\n",
      "2016-05-28 00:00:00 wrf-core10_arw  Missing\n",
      "2016-05-29 00:00:00 wrf-core01_arw  Missing\n",
      "2016-05-29 00:00:00 wrf-core03_arw  Missing\n",
      "2016-05-29 00:00:00 wrf-core04_arw  Missing\n",
      "2016-05-29 00:00:00 wrf-core05_arw  Missing\n",
      "2016-05-29 00:00:00 wrf-core06_arw  Missing\n",
      "2016-05-29 00:00:00 wrf-core07_arw  Missing\n",
      "2016-05-29 00:00:00 wrf-core08_arw  Missing\n",
      "2016-05-29 00:00:00 wrf-core09_arw  Missing\n",
      "2016-05-29 00:00:00 wrf-core10_arw  Missing\n",
      "2016-05-02 00:00:00 wrf-core03_arw  Missing\n",
      "2016-05-02 00:00:00 wrf-core05_arw  Missing\n",
      "2016-05-02 00:00:00 wrf-core06_arw  Missing\n",
      "2016-05-02 00:00:00 wrf-core08_arw  Missing\n",
      "2016-05-02 00:00:00 wrf-core09_arw  Missing\n",
      "2016-05-03 00:00:00 wrf-core03_arw  Missing\n",
      "2016-05-03 00:00:00 wrf-core05_arw  Missing\n",
      "2016-05-03 00:00:00 wrf-core06_arw  Missing\n",
      "2016-05-03 00:00:00 wrf-core08_arw  Missing\n",
      "2016-05-03 00:00:00 wrf-core09_arw  Missing\n",
      "2016-05-04 00:00:00 wrf-core03_arw  Missing\n",
      "2016-05-04 00:00:00 wrf-core05_arw  Missing\n",
      "2016-05-04 00:00:00 wrf-core06_arw  Missing\n",
      "2016-05-04 00:00:00 wrf-core08_arw  Missing\n",
      "2016-05-04 00:00:00 wrf-core09_arw  Missing\n",
      "2016-05-07 00:00:00 wrf-core01_arw  Missing\n",
      "2016-05-07 00:00:00 wrf-core03_arw  Missing\n",
      "2016-05-07 00:00:00 wrf-core04_arw  Missing\n",
      "2016-05-07 00:00:00 wrf-core05_arw  Missing\n",
      "2016-05-07 00:00:00 wrf-core06_arw  Missing\n",
      "2016-05-07 00:00:00 wrf-core07_arw  Missing\n",
      "2016-05-07 00:00:00 wrf-core08_arw  Missing\n",
      "2016-05-07 00:00:00 wrf-core09_arw  Missing\n",
      "2016-05-07 00:00:00 wrf-core10_arw  Missing\n",
      "2016-05-08 00:00:00 wrf-core01_arw  Missing\n",
      "2016-05-08 00:00:00 wrf-core03_arw  Missing\n",
      "2016-05-08 00:00:00 wrf-core04_arw  Missing\n",
      "2016-05-08 00:00:00 wrf-core05_arw  Missing\n",
      "2016-05-08 00:00:00 wrf-core06_arw  Missing\n",
      "2016-05-08 00:00:00 wrf-core07_arw  Missing\n",
      "2016-05-08 00:00:00 wrf-core08_arw  Missing\n",
      "2016-05-08 00:00:00 wrf-core09_arw  Missing\n",
      "2016-05-08 00:00:00 wrf-core10_arw  Missing\n",
      "2016-05-09 00:00:00 wrf-core10_arw  Missing\n",
      "2016-05-11 00:00:00 wrf-core03_arw  Missing\n",
      "2016-05-11 00:00:00 wrf-core06_arw  Missing\n",
      "2016-05-12 00:00:00 wrf-core03_arw  Missing\n",
      "2016-05-12 00:00:00 wrf-core06_arw  Missing\n",
      "2016-05-14 00:00:00 wrf-core01_arw  Missing\n",
      "2016-05-14 00:00:00 wrf-core03_arw  Missing\n",
      "2016-05-14 00:00:00 wrf-core04_arw  Missing\n",
      "2016-05-14 00:00:00 wrf-core05_arw  Missing\n",
      "2016-05-14 00:00:00 wrf-core06_arw  Missing\n",
      "2016-05-14 00:00:00 wrf-core07_arw  Missing\n",
      "2016-05-14 00:00:00 wrf-core08_arw  Missing\n",
      "2016-05-14 00:00:00 wrf-core09_arw  Missing\n",
      "2016-05-14 00:00:00 wrf-core10_arw  Missing\n",
      "2016-05-15 00:00:00 wrf-core01_arw  Missing\n",
      "2016-05-15 00:00:00 wrf-core03_arw  Missing\n",
      "2016-05-15 00:00:00 wrf-core04_arw  Missing\n",
      "2016-05-15 00:00:00 wrf-core05_arw  Missing\n",
      "2016-05-15 00:00:00 wrf-core06_arw  Missing\n",
      "2016-05-15 00:00:00 wrf-core07_arw  Missing\n",
      "2016-05-15 00:00:00 wrf-core08_arw  Missing\n",
      "2016-05-15 00:00:00 wrf-core09_arw  Missing\n",
      "2016-05-15 00:00:00 wrf-core10_arw  Missing\n",
      "2016-05-18 00:00:00 wrf-core03_arw  Missing\n",
      "2016-05-18 00:00:00 wrf-core04_arw  Missing\n",
      "2016-05-21 00:00:00 wrf-core01_arw  Missing\n",
      "2016-05-21 00:00:00 wrf-core03_arw  Missing\n",
      "2016-05-21 00:00:00 wrf-core04_arw  Missing\n",
      "2016-05-21 00:00:00 wrf-core05_arw  Missing\n",
      "2016-05-21 00:00:00 wrf-core06_arw  Missing\n",
      "2016-05-21 00:00:00 wrf-core07_arw  Missing\n",
      "2016-05-21 00:00:00 wrf-core08_arw  Missing\n",
      "2016-05-21 00:00:00 wrf-core09_arw  Missing\n",
      "2016-05-21 00:00:00 wrf-core10_arw  Missing\n",
      "2016-05-22 00:00:00 wrf-core01_arw  Missing\n",
      "2016-05-22 00:00:00 wrf-core03_arw  Missing\n",
      "2016-05-22 00:00:00 wrf-core04_arw  Missing\n",
      "2016-05-22 00:00:00 wrf-core05_arw  Missing\n",
      "2016-05-22 00:00:00 wrf-core06_arw  Missing\n",
      "2016-05-22 00:00:00 wrf-core07_arw  Missing\n",
      "2016-05-22 00:00:00 wrf-core08_arw  Missing\n",
      "2016-05-22 00:00:00 wrf-core09_arw  Missing\n",
      "2016-05-22 00:00:00 wrf-core10_arw  Missing\n",
      "2016-05-24 00:00:00 wrf-core06_arw  Missing\n",
      "2016-05-25 00:00:00 wrf-core03_arw  Missing\n",
      "2016-05-26 00:00:00 wrf-core03_arw  Missing\n",
      "2016-05-26 00:00:00 wrf-core06_arw  Missing\n",
      "2016-05-28 00:00:00 wrf-core01_arw  Missing\n",
      "2016-05-28 00:00:00 wrf-core03_arw  Missing\n",
      "2016-05-28 00:00:00 wrf-core04_arw  Missing\n",
      "2016-05-28 00:00:00 wrf-core05_arw  Missing\n",
      "2016-05-28 00:00:00 wrf-core06_arw  Missing\n",
      "2016-05-28 00:00:00 wrf-core07_arw  Missing\n",
      "2016-05-28 00:00:00 wrf-core08_arw  Missing\n",
      "2016-05-28 00:00:00 wrf-core09_arw  Missing\n",
      "2016-05-28 00:00:00 wrf-core10_arw  Missing\n",
      "2016-05-29 00:00:00 wrf-core01_arw  Missing\n",
      "2016-05-29 00:00:00 wrf-core03_arw  Missing\n",
      "2016-05-29 00:00:00 wrf-core04_arw  Missing\n",
      "2016-05-29 00:00:00 wrf-core05_arw  Missing\n",
      "2016-05-29 00:00:00 wrf-core06_arw  Missing\n",
      "2016-05-29 00:00:00 wrf-core07_arw  Missing\n",
      "2016-05-29 00:00:00 wrf-core08_arw  Missing\n",
      "2016-05-29 00:00:00 wrf-core09_arw  Missing\n",
      "2016-05-29 00:00:00 wrf-core10_arw  Missing\n"
     ]
    }
   ],
   "source": [
    "run_dates = pd.DatetimeIndex(start=\"2016-05-02\", end=\"2016-06-03\", freq=\"1D\")\n",
    "members = [\"wrf-core01_arw\"] + [\"wrf-core{0:02d}_arw\".format(x) for x in range(3, 11)]\n",
    "csv_path_start = \"/hail/djgagne/\"\n",
    "all_tracks = dict()\n",
    "all_tracks[\"hailcast\"] = load_forecast_track_steps(run_dates, \n",
    "                                                   members, \n",
    "                                                   \"SSEF\", \n",
    "                                                   join(csv_path_start, \"track_data_caps_2016_hailcast_csv/\"))\n",
    "all_tracks[\"thompson\"] = load_forecast_track_steps(run_dates, \n",
    "                                                   members, \n",
    "                                                   \"SSEF\", \n",
    "                                                   join(csv_path_start, \"track_data_caps_2016_thompson_csv/\"))"
   ]
  },
  {
   "cell_type": "code",
   "execution_count": 4,
   "metadata": {},
   "outputs": [
    {
     "data": {
      "text/plain": [
       "array(['2016-05-02T00:00:00.000000000', '2016-05-03T00:00:00.000000000',\n",
       "       '2016-05-04T00:00:00.000000000', '2016-05-05T00:00:00.000000000',\n",
       "       '2016-05-06T00:00:00.000000000', '2016-05-09T00:00:00.000000000',\n",
       "       '2016-05-10T00:00:00.000000000', '2016-05-11T00:00:00.000000000',\n",
       "       '2016-05-12T00:00:00.000000000', '2016-05-13T00:00:00.000000000',\n",
       "       '2016-05-16T00:00:00.000000000', '2016-05-17T00:00:00.000000000',\n",
       "       '2016-05-18T00:00:00.000000000', '2016-05-19T00:00:00.000000000',\n",
       "       '2016-05-20T00:00:00.000000000', '2016-05-23T00:00:00.000000000',\n",
       "       '2016-05-24T00:00:00.000000000', '2016-05-25T00:00:00.000000000',\n",
       "       '2016-05-26T00:00:00.000000000', '2016-05-27T00:00:00.000000000',\n",
       "       '2016-05-30T00:00:00.000000000', '2016-05-31T00:00:00.000000000',\n",
       "       '2016-06-01T00:00:00.000000000', '2016-06-02T00:00:00.000000000',\n",
       "       '2016-06-03T00:00:00.000000000'], dtype='datetime64[ns]')"
      ]
     },
     "execution_count": 4,
     "metadata": {},
     "output_type": "execute_result"
    }
   ],
   "source": [
    "all_tracks[\"hailcast\"][\"Run_Date\"].unique()"
   ]
  },
  {
   "cell_type": "code",
   "execution_count": 4,
   "metadata": {},
   "outputs": [],
   "source": [
    "loaded_run_dates = pd.DatetimeIndex(all_tracks[\"hailcast\"][\"Run_Date\"].unique())\n",
    "obs_tracks = load_obs_track_steps(loaded_run_dates, \n",
    "                                  \"wrf-core01_arw\", \n",
    "                                  join(csv_path_start, \"track_data_caps_2016_hailcast_csv/\"))"
   ]
  },
  {
   "cell_type": "code",
   "execution_count": 6,
   "metadata": {},
   "outputs": [],
   "source": [
    "for var in [\"Centroid_Lon\", \"Centroid_Lat\", \"Forecast_Hour\"]:\n",
    "    for hm in all_tracks.keys():\n",
    "        all_tracks[hm][var + \"_n\"] = (all_tracks[hm][var] - all_tracks[hm][var].mean()) / all_tracks[hm][var].std()\n",
    "    obs_tracks[var + \"_n\"] = (obs_tracks[var] - obs_tracks[var].mean()) / obs_tracks[var].std()"
   ]
  },
  {
   "cell_type": "code",
   "execution_count": 7,
   "metadata": {},
   "outputs": [],
   "source": [
    "bmap = Basemap(projection=\"cyl\", resolution=\"l\", llcrnrlon=-125, llcrnrlat=25, urcrnrlon=-60, urcrnrlat=50, fix_aspect=False)\n"
   ]
  },
  {
   "cell_type": "code",
   "execution_count": 8,
   "metadata": {},
   "outputs": [
    {
     "data": {
      "application/vnd.jupyter.widget-view+json": {
       "model_id": "cff0f290a588460c93c60b2efde66f19",
       "version_major": 2,
       "version_minor": 0
      },
      "text/html": [
       "<p>Failed to display Jupyter Widget of type <code>interactive</code>.</p>\n",
       "<p>\n",
       "  If you're reading this message in the Jupyter Notebook or JupyterLab Notebook, it may mean\n",
       "  that the widgets JavaScript is still loading. If this message persists, it\n",
       "  likely means that the widgets JavaScript library is either not installed or\n",
       "  not enabled. See the <a href=\"https://ipywidgets.readthedocs.io/en/stable/user_install.html\">Jupyter\n",
       "  Widgets Documentation</a> for setup instructions.\n",
       "</p>\n",
       "<p>\n",
       "  If you're reading this message in another frontend (for example, a static\n",
       "  rendering on GitHub or <a href=\"https://nbviewer.jupyter.org/\">NBViewer</a>),\n",
       "  it may mean that your frontend doesn't currently support widgets.\n",
       "</p>\n"
      ],
      "text/plain": [
       "interactive(children=(SelectionSlider(description='date', options=(Timestamp('2016-05-02 00:00:00'), Timestamp('2016-05-03 00:00:00'), Timestamp('2016-05-04 00:00:00'), Timestamp('2016-05-05 00:00:00'), Timestamp('2016-05-06 00:00:00'), Timestamp('2016-05-09 00:00:00'), Timestamp('2016-05-10 00:00:00'), Timestamp('2016-05-11 00:00:00'), Timestamp('2016-05-12 00:00:00'), Timestamp('2016-05-13 00:00:00'), Timestamp('2016-05-16 00:00:00'), Timestamp('2016-05-17 00:00:00'), Timestamp('2016-05-18 00:00:00'), Timestamp('2016-05-19 00:00:00'), Timestamp('2016-05-20 00:00:00'), Timestamp('2016-05-23 00:00:00'), Timestamp('2016-05-24 00:00:00'), Timestamp('2016-05-25 00:00:00'), Timestamp('2016-05-26 00:00:00'), Timestamp('2016-05-27 00:00:00'), Timestamp('2016-05-30 00:00:00'), Timestamp('2016-05-31 00:00:00'), Timestamp('2016-06-01 00:00:00'), Timestamp('2016-06-02 00:00:00'), Timestamp('2016-06-03 00:00:00')), value=Timestamp('2016-05-02 00:00:00')), SelectionSlider(description='member', options=('wrf-core01_arw', 'wrf-core03_arw', 'wrf-core04_arw', 'wrf-core05_arw', 'wrf-core06_arw', 'wrf-core07_arw', 'wrf-core08_arw', 'wrf-core09_arw', 'wrf-core10_arw'), value='wrf-core01_arw'), SelectionSlider(description='min_thresh', options=(20, 25, 30, 35, 40, 45, 50, 55, 60, 65, 70, 75, 80, 85, 90, 95, 100), value=20), Output()), _dom_classes=('widget-interact',))"
      ]
     },
     "metadata": {},
     "output_type": "display_data"
    },
    {
     "data": {
      "text/plain": [
       "<function __main__.draw_hail_points>"
      ]
     },
     "execution_count": 8,
     "metadata": {},
     "output_type": "execute_result"
    }
   ],
   "source": [
    "%matplotlib inline\n",
    "def draw_hail_points(date, member, min_thresh):\n",
    "    fig, axes = plt.subplots(3, 1, figsize=(8, 12))\n",
    "    plt.subplots_adjust(0.02, 0.02, 0.95, 0.95, hspace=0.05)\n",
    "    cax = fig.add_axes([0.96, 0.02, 0.03, 0.9])\n",
    "    cmap = plt.get_cmap(\"RdPu\", 8)\n",
    "    for ax in axes:\n",
    "        bmap.drawstates(ax=ax)\n",
    "        bmap.drawcoastlines(ax=ax)\n",
    "        bmap.drawcountries(ax=ax)\n",
    "    hc_idxs = np.where((all_tracks[\"hailcast\"][\"Run_Date\"] == date) & \n",
    "                       (all_tracks[\"hailcast\"][\"Member\"] == member) &\n",
    "                       (all_tracks[\"hailcast\"][\"hailsz_max\"] >= min_thresh))[0]\n",
    "    th_idxs = np.where((all_tracks[\"thompson\"][\"Run_Date\"] == date) & \n",
    "                       (all_tracks[\"thompson\"][\"Member\"] == member) &\n",
    "                       (all_tracks[\"thompson\"][\"hailk1_max\"] >= min_thresh))[0]\n",
    "    ob_idxs = np.where((obs_tracks[\"Run_Date\"] == date) &\n",
    "                       (obs_tracks[\"MESH_max\"] >= min_thresh))[0]\n",
    "    hc_size_order = np.argsort(all_tracks[\"hailcast\"].loc[hc_idxs, \"hailsz_max\"])\n",
    "    th_size_order = np.argsort(all_tracks[\"thompson\"].loc[th_idxs, \"hailk1_max\"])\n",
    "    ob_size_order = np.argsort(obs_tracks.loc[ob_idxs, \"MESH_max\"])\n",
    "    scat = axes[0].scatter(all_tracks[\"hailcast\"].loc[hc_idxs[hc_size_order], \"Centroid_Lon\"], \n",
    "                all_tracks[\"hailcast\"].loc[hc_idxs[hc_size_order], \"Centroid_Lat\"],\n",
    "                all_tracks[\"hailcast\"].loc[hc_idxs[hc_size_order], \"Forecast_Hour\"],\n",
    "                all_tracks[\"hailcast\"].loc[hc_idxs[hc_size_order], \"hailsz_max\"],\n",
    "               vmin=0, vmax=100, cmap=cmap)\n",
    "    axes[0].set(ylabel=\"HAILCAST\")\n",
    "    axes[1].scatter(all_tracks[\"thompson\"].loc[th_idxs[th_size_order], \"Centroid_Lon\"], \n",
    "                    all_tracks[\"thompson\"].loc[th_idxs[th_size_order], \"Centroid_Lat\"],\n",
    "                    all_tracks[\"thompson\"].loc[th_idxs[th_size_order], \"Forecast_Hour\"] * 2,\n",
    "                    all_tracks[\"thompson\"].loc[th_idxs[th_size_order], \"hailk1_max\"],\n",
    "                     vmin=0, vmax=100, cmap=cmap)\n",
    "    axes[1].set(ylabel=\"Thompson\")\n",
    "    axes[2].scatter(obs_tracks.loc[ob_idxs[ob_size_order], \"Centroid_Lon\"], \n",
    "                    obs_tracks.loc[ob_idxs[ob_size_order], \"Centroid_Lat\"], \n",
    "                    obs_tracks.loc[ob_idxs[ob_size_order], \"Forecast_Hour\"],\n",
    "                    obs_tracks.loc[ob_idxs[ob_size_order], \"MESH_max\"],\n",
    "                     vmin=0, vmax=100, cmap=cmap)\n",
    "    axes[2].set(ylabel=\"MESH\")\n",
    "    axes[0].set_title(date)\n",
    "    cbar = fig.colorbar(scat, cax=cax)\n",
    "    plt.show()\n",
    "interact(draw_hail_points, \n",
    "         date=SelectionSlider(options=pd.DatetimeIndex(all_tracks[\"hailcast\"][\"Run_Date\"]).unique().tolist()),\n",
    "         member=SelectionSlider(options=members),\n",
    "         min_thresh=SelectionSlider(options=list(range(20, 105, 5))))"
   ]
  },
  {
   "cell_type": "code",
   "execution_count": 7,
   "metadata": {},
   "outputs": [
    {
     "data": {
      "text/plain": [
       "Forecast_Hour                       23.712832\n",
       "Valid_Hour_UTC                      12.333779\n",
       "Duration                             1.877489\n",
       "Centroid_Lon                       -94.181251\n",
       "Centroid_Lat                        36.588841\n",
       "Storm_Motion_U                   12887.526220\n",
       "Storm_Motion_V                     699.319238\n",
       "uh_max_mean                         16.145745\n",
       "uh_max_max                          42.299483\n",
       "uh_max_min                           1.480115\n",
       "uh_max_std                          10.577122\n",
       "uh_max_percentile_10                 4.213153\n",
       "uh_max_percentile_25                 7.857589\n",
       "uh_max_percentile_50                14.366437\n",
       "uh_max_percentile_75                22.798087\n",
       "uh_max_percentile_90                30.757024\n",
       "r10cmx_mean                         48.804375\n",
       "r10cmx_max                          56.726041\n",
       "r10cmx_min                          37.110131\n",
       "r10cmx_std                           4.678551\n",
       "r10cmx_percentile_10                42.686827\n",
       "r10cmx_percentile_25                46.089055\n",
       "r10cmx_percentile_50                49.425361\n",
       "r10cmx_percentile_75                52.108941\n",
       "r10cmx_percentile_90                54.046559\n",
       "wupmax_mean                         13.486507\n",
       "wupmax_max                          22.689270\n",
       "wupmax_min                           5.396542\n",
       "wupmax_std                           4.379793\n",
       "wupmax_percentile_10                 7.993681\n",
       "                                     ...     \n",
       "shr06-potential_percentile_90    62480.010935\n",
       "lllr-potential_mean                 -6.326844\n",
       "lllr-potential_max                  -5.412868\n",
       "lllr-potential_min                  -6.976203\n",
       "lllr-potential_std                   0.393597\n",
       "lllr-potential_percentile_10        -6.771895\n",
       "lllr-potential_percentile_25        -6.608506\n",
       "lllr-potential_percentile_50        -6.373499\n",
       "lllr-potential_percentile_75        -6.086547\n",
       "lllr-potential_percentile_90        -5.810721\n",
       "lr75-potential_mean                 -6.425024\n",
       "lr75-potential_max                  -5.488465\n",
       "lr75-potential_min                  -7.881667\n",
       "lr75-potential_std                   0.597708\n",
       "lr75-potential_percentile_10        -6.954146\n",
       "lr75-potential_percentile_25        -6.767397\n",
       "lr75-potential_percentile_50        -6.322236\n",
       "lr75-potential_percentile_75        -6.107779\n",
       "lr75-potential_percentile_90        -5.884881\n",
       "area                                53.789839\n",
       "eccentricity                         0.842322\n",
       "major_axis_length                   13.586806\n",
       "minor_axis_length                    6.040527\n",
       "orientation                         -0.259295\n",
       "Matched                              0.509233\n",
       "Max_Hail_Size                       23.028886\n",
       "Num_Matches                          2.665217\n",
       "Shape                                0.932881\n",
       "Location                             9.441943\n",
       "Scale                                3.187172\n",
       "Length: 207, dtype: float64"
      ]
     },
     "execution_count": 7,
     "metadata": {},
     "output_type": "execute_result"
    }
   ],
   "source": [
    "all_tracks[\"hailcast\"].mean(axis=0)"
   ]
  },
  {
   "cell_type": "code",
   "execution_count": 11,
   "metadata": {},
   "outputs": [
    {
     "data": {
      "text/plain": [
       "<matplotlib.axes._subplots.AxesSubplot at 0x2adfe9a03ac8>"
      ]
     },
     "execution_count": 11,
     "metadata": {},
     "output_type": "execute_result"
    },
    {
     "data": {
      "image/png": "[encoded data removed]",
      "text/plain": [
       "<matplotlib.figure.Figure at 0x2adffbcceda0>"
      ]
     },
     "metadata": {},
     "output_type": "display_data"
    }
   ],
   "source": [
    "all_tracks[\"hailcast\"][\"area\"].hist()"
   ]
  },
  {
   "cell_type": "code",
   "execution_count": 29,
   "metadata": {},
   "outputs": [
    {
     "data": {
      "text/plain": [
       "<matplotlib.text.Text at 0x2b862f4cdb38>"
      ]
     },
     "execution_count": 29,
     "metadata": {},
     "output_type": "execute_result"
    },
    {
     "data": {
      "image/png": "[encoded data removed]",
      "text/plain": [
       "<matplotlib.figure.Figure at 0x2b862f604d30>"
      ]
     },
     "metadata": {},
     "output_type": "display_data"
    }
   ],
   "source": [
    "plt.figure(figsize=(5, 8))\n",
    "plt.subplot(3, 1, 1)\n",
    "mem_idx = all_tracks[\"thompson\"][\"Member\"] == \"wrf-core01_arw\"\n",
    "all_tracks[\"thompson\"].loc[mem_idx, \"hailk1_max\"].hist(bins=20)\n",
    "plt.ylabel(\"Thompson\")\n",
    "plt.subplot(3, 1, 2)\n",
    "mem_idx = all_tracks[\"thompson\"][\"Member\"] == \"wrf-core01_arw\"\n",
    "all_tracks[\"hailcast\"].loc[mem_idx, \"hailsz_max\"].hist(bins=20)\n",
    "plt.ylabel(\"HAILCAST\")\n",
    "plt.subplot(3, 1, 3)\n",
    "obs_tracks.loc[mem_idx, \"MESH_max\"].hist(bins=20)\n",
    "plt.ylabel(\"MESH\")"
   ]
  },
  {
   "cell_type": "code",
   "execution_count": 25,
   "metadata": {},
   "outputs": [
    {
     "data": {
      "text/plain": [
       "Index([u'Step_ID', u'Obs_Track_ID', u'Date', u'Forecast_Hour',\n",
       "       u'Valid_Hour_UTC', u'Duration', u'Centroid_Lon', u'Centroid_Lat',\n",
       "       u'MESH_mean', u'MESH_max', u'MESH_min', u'MESH_std',\n",
       "       u'MESH_percentile_10', u'MESH_percentile_25', u'MESH_percentile_50',\n",
       "       u'MESH_percentile_75', u'MESH_percentile_90', u'Run_Date'],\n",
       "      dtype='object')"
      ]
     },
     "execution_count": 25,
     "metadata": {},
     "output_type": "execute_result"
    }
   ],
   "source": [
    "obs_tracks.columns"
   ]
  },
  {
   "cell_type": "code",
   "execution_count": 9,
   "metadata": {
    "scrolled": false
   },
   "outputs": [
    {
     "data": {
      "application/vnd.jupyter.widget-view+json": {
       "model_id": "da2f72675c5f47648efa55019409931d",
       "version_major": 2,
       "version_minor": 0
      },
      "text/html": [
       "<p>Failed to display Jupyter Widget of type <code>interactive</code>.</p>\n",
       "<p>\n",
       "  If you're reading this message in the Jupyter Notebook or JupyterLab Notebook, it may mean\n",
       "  that the widgets JavaScript is still loading. If this message persists, it\n",
       "  likely means that the widgets JavaScript library is either not installed or\n",
       "  not enabled. See the <a href=\"https://ipywidgets.readthedocs.io/en/stable/user_install.html\">Jupyter\n",
       "  Widgets Documentation</a> for setup instructions.\n",
       "</p>\n",
       "<p>\n",
       "  If you're reading this message in another frontend (for example, a static\n",
       "  rendering on GitHub or <a href=\"https://nbviewer.jupyter.org/\">NBViewer</a>),\n",
       "  it may mean that your frontend doesn't currently support widgets.\n",
       "</p>\n"
      ],
      "text/plain": [
       "interactive(children=(SelectionSlider(description='date', options=(Timestamp('2016-05-02 00:00:00'), Timestamp('2016-05-03 00:00:00'), Timestamp('2016-05-04 00:00:00'), Timestamp('2016-05-05 00:00:00'), Timestamp('2016-05-06 00:00:00'), Timestamp('2016-05-09 00:00:00'), Timestamp('2016-05-10 00:00:00'), Timestamp('2016-05-11 00:00:00'), Timestamp('2016-05-12 00:00:00'), Timestamp('2016-05-13 00:00:00'), Timestamp('2016-05-16 00:00:00'), Timestamp('2016-05-17 00:00:00'), Timestamp('2016-05-18 00:00:00'), Timestamp('2016-05-19 00:00:00'), Timestamp('2016-05-20 00:00:00'), Timestamp('2016-05-23 00:00:00'), Timestamp('2016-05-24 00:00:00'), Timestamp('2016-05-25 00:00:00'), Timestamp('2016-05-26 00:00:00'), Timestamp('2016-05-27 00:00:00'), Timestamp('2016-05-30 00:00:00'), Timestamp('2016-05-31 00:00:00'), Timestamp('2016-06-01 00:00:00'), Timestamp('2016-06-02 00:00:00'), Timestamp('2016-06-03 00:00:00')), value=Timestamp('2016-05-02 00:00:00')), SelectionSlider(description='member', options=('wrf-core01_arw', 'wrf-core03_arw', 'wrf-core04_arw', 'wrf-core05_arw', 'wrf-core06_arw', 'wrf-core07_arw', 'wrf-core08_arw', 'wrf-core09_arw', 'wrf-core10_arw'), value='wrf-core01_arw'), SelectionSlider(description='num_clusters', options=(2, 3, 4, 5, 6, 7, 8, 9, 10), value=2), Output()), _dom_classes=('widget-interact',))"
      ]
     },
     "metadata": {},
     "output_type": "display_data"
    },
    {
     "data": {
      "text/plain": [
       "<function __main__.draw_hail_clusters>"
      ]
     },
     "execution_count": 9,
     "metadata": {},
     "output_type": "execute_result"
    }
   ],
   "source": [
    "%matplotlib inline\n",
    "def draw_hail_clusters(date, member, num_clusters):\n",
    "    fig, axes = plt.subplots(3, 2, figsize=(8, 12))\n",
    "    plt.subplots_adjust(0.02, 0.02, 0.98, 0.95, hspace=0.05)\n",
    "    for ax in axes[:, 0]:\n",
    "        bmap.drawstates(ax=ax)\n",
    "        bmap.drawcoastlines(ax=ax)\n",
    "        bmap.drawcountries(ax=ax)\n",
    "    hc_idxs = np.where((all_tracks[\"hailcast\"][\"Run_Date\"] == date) & \n",
    "                       (all_tracks[\"hailcast\"][\"Member\"] == member))[0]\n",
    "    th_idxs = np.where((all_tracks[\"thompson\"][\"Run_Date\"] == date) & \n",
    "                       (all_tracks[\"thompson\"][\"Member\"] == member))[0]\n",
    "    ob_idxs = np.where(obs_tracks[\"Run_Date\"] == date)[0]\n",
    "    hc_size_order = np.argsort(all_tracks[\"hailcast\"].loc[hc_idxs, \"hailsz_max\"])\n",
    "    th_size_order = np.argsort(all_tracks[\"thompson\"].loc[th_idxs, \"hailk1_max\"])\n",
    "    ob_size_order = np.argsort(obs_tracks.loc[ob_idxs, \"MESH_max\"])\n",
    "    #db_hc = DBSCAN(eps=1, min_samples=5)\n",
    "    #db_th = DBSCAN(eps=1, min_samples=5)\n",
    "    #db_me = DBSCAN(eps=1, min_samples=5)\n",
    "    km_hc = AgglomerativeClustering(n_clusters=num_clusters, linkage=\"complete\")\n",
    "    km_th = AgglomerativeClustering(n_clusters=num_clusters, linkage=\"complete\")\n",
    "    km_me = AgglomerativeClustering(n_clusters=num_clusters, linkage=\"complete\")\n",
    "    cluster_cols = [\"Centroid_Lon_n\", \"Centroid_Lat_n\", \"Forecast_Hour_n\"]\n",
    "    if len(hc_idxs) > 0:\n",
    "        hc_clusters = km_hc.fit_predict(all_tracks[\"hailcast\"].loc[hc_idxs, cluster_cols])\n",
    "        print(silhouette_score(all_tracks[\"hailcast\"].loc[hc_idxs, cluster_cols], hc_clusters))\n",
    "    else:\n",
    "        hc_clusters = np.array([])\n",
    "    if len(th_idxs) > 0:\n",
    "        th_clusters = km_th.fit_predict(all_tracks[\"thompson\"].loc[th_idxs, cluster_cols])\n",
    "        print(silhouette_score(all_tracks[\"thompson\"].loc[th_idxs, cluster_cols], th_clusters))\n",
    "\n",
    "    else:\n",
    "        th_clusters = np.array([])\n",
    "    if len(ob_idxs) > 0:\n",
    "        me_clusters = km_me.fit_predict(obs_tracks.loc[ob_idxs, cluster_cols])\n",
    "        print(silhouette_score(obs_tracks.loc[ob_idxs, cluster_cols], me_clusters))\n",
    "    else:\n",
    "        me_clusters = np.array([])\n",
    "    axes[0, 0].scatter(all_tracks[\"hailcast\"].loc[hc_idxs[hc_size_order], \"Centroid_Lon\"], \n",
    "                all_tracks[\"hailcast\"].loc[hc_idxs[hc_size_order], \"Centroid_Lat\"], 10, \n",
    "                hc_clusters[hc_size_order],\n",
    "                vmin=0, vmax=num_clusters - 1, cmap=plt.get_cmap(\"tab10\", num_clusters))\n",
    "    axes[0, 0].set(ylabel=\"HAILCAST\")\n",
    "    axes[0, 1].scatter(all_tracks[\"hailcast\"].loc[hc_idxs[hc_size_order], \"Centroid_Lon\"],\n",
    "                       all_tracks[\"hailcast\"].loc[hc_idxs[hc_size_order], \"Forecast_Hour\"],\n",
    "                      10,\n",
    "                      hc_clusters[hc_size_order], \n",
    "                       vmin=0, vmax=num_clusters - 1, cmap=plt.get_cmap(\"tab10\", num_clusters))\n",
    "    axes[1, 0].scatter(all_tracks[\"thompson\"].loc[th_idxs[th_size_order], \"Centroid_Lon\"], \n",
    "                    all_tracks[\"thompson\"].loc[th_idxs[th_size_order], \"Centroid_Lat\"], 10, \n",
    "                    th_clusters[th_size_order],\n",
    "                     vmin=0, vmax=num_clusters-1, cmap=plt.get_cmap(\"tab10\", num_clusters))\n",
    "    axes[1, 0].set(ylabel=\"Thompson\")\n",
    "    axes[1, 1].scatter(all_tracks[\"thompson\"].loc[th_idxs[th_size_order], \"Centroid_Lon\"],\n",
    "                       all_tracks[\"thompson\"].loc[th_idxs[th_size_order], \"Forecast_Hour\"],\n",
    "                      10,\n",
    "                      th_clusters[th_size_order], \n",
    "                       vmin=0, vmax=num_clusters - 1, cmap=plt.get_cmap(\"tab10\", num_clusters))\n",
    "    axes[2, 0].scatter(obs_tracks.loc[ob_idxs[ob_size_order], \"Centroid_Lon\"], \n",
    "                    obs_tracks.loc[ob_idxs[ob_size_order], \"Centroid_Lat\"], 10, \n",
    "                    me_clusters[ob_size_order],\n",
    "                     vmin=0, vmax=num_clusters-1, cmap=plt.get_cmap(\"tab10\", num_clusters))\n",
    "    axes[2, 0].set(ylabel=\"MESH\")\n",
    "    axes[0, 0].set_title(date)\n",
    "    plt.show()\n",
    "interact(draw_hail_clusters, \n",
    "         date=SelectionSlider(options=pd.DatetimeIndex(all_tracks[\"hailcast\"][\"Run_Date\"]).unique().tolist()),\n",
    "         member=SelectionSlider(options=members), num_clusters=SelectionSlider(options=list(range(2, 11))))"
   ]
  },
  {
   "cell_type": "code",
   "execution_count": 23,
   "metadata": {},
   "outputs": [
    {
     "data": {
      "text/html": [
       "<div>\n",
       "<style>\n",
       "    .dataframe thead tr:only-child th {\n",
       "        text-align: right;\n",
       "    }\n",
       "\n",
       "    .dataframe thead th {\n",
       "        text-align: left;\n",
       "    }\n",
       "\n",
       "    .dataframe tbody tr th {\n",
       "        vertical-align: top;\n",
       "    }\n",
       "</style>\n",
       "<table border=\"1\" class=\"dataframe\">\n",
       "  <thead>\n",
       "    <tr style=\"text-align: right;\">\n",
       "      <th></th>\n",
       "      <th>Ensemble_Member</th>\n",
       "      <th>IC</th>\n",
       "      <th>BC</th>\n",
       "      <th>Microphysics</th>\n",
       "      <th>LSM</th>\n",
       "      <th>PBL</th>\n",
       "      <th>MicrophysicsTrue</th>\n",
       "    </tr>\n",
       "  </thead>\n",
       "  <tbody>\n",
       "    <tr>\n",
       "      <th>0</th>\n",
       "      <td>wrf-core01_arw</td>\n",
       "      <td>00Z ARPSa</td>\n",
       "      <td>00Z NAMf</td>\n",
       "      <td>Thompson</td>\n",
       "      <td>Noah</td>\n",
       "      <td>MYJ</td>\n",
       "      <td>Thompson</td>\n",
       "    </tr>\n",
       "    <tr>\n",
       "      <th>1</th>\n",
       "      <td>wrf-core03_arw</td>\n",
       "      <td>arw_cn+em-p1_pert</td>\n",
       "      <td>21Z SREF em-p1</td>\n",
       "      <td>P3</td>\n",
       "      <td>Noah</td>\n",
       "      <td>YSU</td>\n",
       "      <td>P3</td>\n",
       "    </tr>\n",
       "    <tr>\n",
       "      <th>2</th>\n",
       "      <td>wrf-core04_arw</td>\n",
       "      <td>arw_cn+em-n2_pert</td>\n",
       "      <td>21Z SREF em-n2</td>\n",
       "      <td>MY</td>\n",
       "      <td>Noah</td>\n",
       "      <td>MYNN</td>\n",
       "      <td>MY</td>\n",
       "    </tr>\n",
       "    <tr>\n",
       "      <th>3</th>\n",
       "      <td>wrf-core05_arw</td>\n",
       "      <td>arw_cn+nmm-p1_pert</td>\n",
       "      <td>21Z SREF nmm-p1</td>\n",
       "      <td>Morrison</td>\n",
       "      <td>Noah</td>\n",
       "      <td>MYJ</td>\n",
       "      <td>Morrison</td>\n",
       "    </tr>\n",
       "    <tr>\n",
       "      <th>4</th>\n",
       "      <td>wrf-core06_arw</td>\n",
       "      <td>arw_cn+nmmb-n1_pert</td>\n",
       "      <td>21Z SREF nmmb-n1</td>\n",
       "      <td>P3</td>\n",
       "      <td>Noah</td>\n",
       "      <td>YSU</td>\n",
       "      <td>P3</td>\n",
       "    </tr>\n",
       "    <tr>\n",
       "      <th>5</th>\n",
       "      <td>wrf-core07_arw</td>\n",
       "      <td>arw_cn-nmmb_p1_pert</td>\n",
       "      <td>21Z SREF nmmb-p1</td>\n",
       "      <td>MY</td>\n",
       "      <td>Noah</td>\n",
       "      <td>MYNN</td>\n",
       "      <td>MY</td>\n",
       "    </tr>\n",
       "    <tr>\n",
       "      <th>6</th>\n",
       "      <td>wrf-core08_arw</td>\n",
       "      <td>arw_cn-em-n1_pert</td>\n",
       "      <td>21Z SREF em-n1</td>\n",
       "      <td>Morrison</td>\n",
       "      <td>Noah</td>\n",
       "      <td>YSU</td>\n",
       "      <td>Morrison</td>\n",
       "    </tr>\n",
       "    <tr>\n",
       "      <th>7</th>\n",
       "      <td>wrf-core09_arw</td>\n",
       "      <td>arw_cn-em-p2_pert</td>\n",
       "      <td>21Z SREF em-p2</td>\n",
       "      <td>P3</td>\n",
       "      <td>Noah</td>\n",
       "      <td>MYJ</td>\n",
       "      <td>P3</td>\n",
       "    </tr>\n",
       "    <tr>\n",
       "      <th>8</th>\n",
       "      <td>wrf-core10_arw</td>\n",
       "      <td>arw_cn-nmmb-n3_pert</td>\n",
       "      <td>21Z SREF nmmb-n3</td>\n",
       "      <td>Thompson</td>\n",
       "      <td>Noah</td>\n",
       "      <td>MYNN</td>\n",
       "      <td>Thompson</td>\n",
       "    </tr>\n",
       "  </tbody>\n",
       "</table>\n",
       "</div>"
      ],
      "text/plain": [
       "  Ensemble_Member                   IC                BC Microphysics   LSM  \\\n",
       "0  wrf-core01_arw            00Z ARPSa          00Z NAMf     Thompson  Noah   \n",
       "1  wrf-core03_arw    arw_cn+em-p1_pert    21Z SREF em-p1           P3  Noah   \n",
       "2  wrf-core04_arw    arw_cn+em-n2_pert    21Z SREF em-n2           MY  Noah   \n",
       "3  wrf-core05_arw   arw_cn+nmm-p1_pert   21Z SREF nmm-p1     Morrison  Noah   \n",
       "4  wrf-core06_arw  arw_cn+nmmb-n1_pert  21Z SREF nmmb-n1           P3  Noah   \n",
       "5  wrf-core07_arw  arw_cn-nmmb_p1_pert  21Z SREF nmmb-p1           MY  Noah   \n",
       "6  wrf-core08_arw    arw_cn-em-n1_pert    21Z SREF em-n1     Morrison  Noah   \n",
       "7  wrf-core09_arw    arw_cn-em-p2_pert    21Z SREF em-p2           P3  Noah   \n",
       "8  wrf-core10_arw  arw_cn-nmmb-n3_pert  21Z SREF nmmb-n3     Thompson  Noah   \n",
       "\n",
       "    PBL MicrophysicsTrue  \n",
       "0   MYJ         Thompson  \n",
       "1   YSU               P3  \n",
       "2  MYNN               MY  \n",
       "3   MYJ         Morrison  \n",
       "4   YSU               P3  \n",
       "5  MYNN               MY  \n",
       "6   YSU         Morrison  \n",
       "7   MYJ               P3  \n",
       "8  MYNN         Thompson  "
      ]
     },
     "execution_count": 23,
     "metadata": {},
     "output_type": "execute_result"
    }
   ],
   "source": [
    "caps_2016_config = pd.read_csv(\"../config/member_info_caps_spring2016.csv\")\n",
    "caps_2016_config"
   ]
  },
  {
   "cell_type": "code",
   "execution_count": 12,
   "metadata": {},
   "outputs": [
    {
     "name": "stdout",
     "output_type": "stream",
     "text": [
      "Step_ID\n",
      "Track_ID\n",
      "Date\n",
      "Forecast_Hour\n",
      "Valid_Hour_UTC\n",
      "Duration\n",
      "Centroid_Lon\n",
      "Centroid_Lat\n",
      "Storm_Motion_U\n",
      "Storm_Motion_V\n",
      "uh_max_mean\n",
      "uh_max_max\n",
      "uh_max_min\n",
      "uh_max_std\n",
      "uh_max_percentile_10\n",
      "uh_max_percentile_25\n",
      "uh_max_percentile_50\n",
      "uh_max_percentile_75\n",
      "uh_max_percentile_90\n",
      "r10cmx_mean\n",
      "r10cmx_max\n",
      "r10cmx_min\n",
      "r10cmx_std\n",
      "r10cmx_percentile_10\n",
      "r10cmx_percentile_25\n",
      "r10cmx_percentile_50\n",
      "r10cmx_percentile_75\n",
      "r10cmx_percentile_90\n",
      "wupmax_mean\n",
      "wupmax_max\n",
      "wupmax_min\n",
      "wupmax_std\n",
      "wupmax_percentile_10\n",
      "wupmax_percentile_25\n",
      "wupmax_percentile_50\n",
      "wupmax_percentile_75\n",
      "wupmax_percentile_90\n",
      "cqgmax_mean\n",
      "cqgmax_max\n",
      "cqgmax_min\n",
      "cqgmax_std\n",
      "cqgmax_percentile_10\n",
      "cqgmax_percentile_25\n",
      "cqgmax_percentile_50\n",
      "cqgmax_percentile_75\n",
      "cqgmax_percentile_90\n",
      "pwat_mean\n",
      "pwat_max\n",
      "pwat_min\n",
      "pwat_std\n",
      "pwat_percentile_10\n",
      "pwat_percentile_25\n",
      "pwat_percentile_50\n",
      "pwat_percentile_75\n",
      "pwat_percentile_90\n",
      "wdnmax_mean\n",
      "wdnmax_max\n",
      "wdnmax_min\n",
      "wdnmax_std\n",
      "wdnmax_percentile_10\n",
      "wdnmax_percentile_25\n",
      "wdnmax_percentile_50\n",
      "wdnmax_percentile_75\n",
      "wdnmax_percentile_90\n",
      "cmpref_mean\n",
      "cmpref_max\n",
      "cmpref_min\n",
      "cmpref_std\n",
      "cmpref_percentile_10\n",
      "cmpref_percentile_25\n",
      "cmpref_percentile_50\n",
      "cmpref_percentile_75\n",
      "cmpref_percentile_90\n",
      "hailsz_mean\n",
      "hailsz_max\n",
      "hailsz_min\n",
      "hailsz_std\n",
      "hailsz_percentile_10\n",
      "hailsz_percentile_25\n",
      "hailsz_percentile_50\n",
      "hailsz_percentile_75\n",
      "hailsz_percentile_90\n",
      "hailsd_mean\n",
      "hailsd_max\n",
      "hailsd_min\n",
      "hailsd_std\n",
      "hailsd_percentile_10\n",
      "hailsd_percentile_25\n",
      "hailsd_percentile_50\n",
      "hailsd_percentile_75\n",
      "hailsd_percentile_90\n",
      "hailk1_mean\n",
      "hailk1_max\n",
      "hailk1_min\n",
      "hailk1_std\n",
      "hailk1_percentile_10\n",
      "hailk1_percentile_25\n",
      "hailk1_percentile_50\n",
      "hailk1_percentile_75\n",
      "hailk1_percentile_90\n",
      "uh03mx_mean\n",
      "uh03mx_max\n",
      "uh03mx_min\n",
      "uh03mx_std\n",
      "uh03mx_percentile_10\n",
      "uh03mx_percentile_25\n",
      "uh03mx_percentile_50\n",
      "uh03mx_percentile_75\n",
      "uh03mx_percentile_90\n",
      "hgtsfc_mean\n",
      "hgtsfc_max\n",
      "hgtsfc_min\n",
      "hgtsfc_std\n",
      "hgtsfc_percentile_10\n",
      "hgtsfc_percentile_25\n",
      "hgtsfc_percentile_50\n",
      "hgtsfc_percentile_75\n",
      "hgtsfc_percentile_90\n",
      "cmpref-potential_mean\n",
      "cmpref-potential_max\n",
      "cmpref-potential_min\n",
      "cmpref-potential_std\n",
      "cmpref-potential_percentile_10\n",
      "cmpref-potential_percentile_25\n",
      "cmpref-potential_percentile_50\n",
      "cmpref-potential_percentile_75\n",
      "cmpref-potential_percentile_90\n",
      "mlcape-potential_mean\n",
      "mlcape-potential_max\n",
      "mlcape-potential_min\n",
      "mlcape-potential_std\n",
      "mlcape-potential_percentile_10\n",
      "mlcape-potential_percentile_25\n",
      "mlcape-potential_percentile_50\n",
      "mlcape-potential_percentile_75\n",
      "mlcape-potential_percentile_90\n",
      "mlcins-potential_mean\n",
      "mlcins-potential_max\n",
      "mlcins-potential_min\n",
      "mlcins-potential_std\n",
      "mlcins-potential_percentile_10\n",
      "mlcins-potential_percentile_25\n",
      "mlcins-potential_percentile_50\n",
      "mlcins-potential_percentile_75\n",
      "mlcins-potential_percentile_90\n",
      "mucape-potential_mean\n",
      "mucape-potential_max\n",
      "mucape-potential_min\n",
      "mucape-potential_std\n",
      "mucape-potential_percentile_10\n",
      "mucape-potential_percentile_25\n",
      "mucape-potential_percentile_50\n",
      "mucape-potential_percentile_75\n",
      "mucape-potential_percentile_90\n",
      "mucins-potential_mean\n",
      "mucins-potential_max\n",
      "mucins-potential_min\n",
      "mucins-potential_std\n",
      "mucins-potential_percentile_10\n",
      "mucins-potential_percentile_25\n",
      "mucins-potential_percentile_50\n",
      "mucins-potential_percentile_75\n",
      "mucins-potential_percentile_90\n",
      "sblcl-potential_mean\n",
      "sblcl-potential_max\n",
      "sblcl-potential_min\n",
      "sblcl-potential_std\n",
      "sblcl-potential_percentile_10\n",
      "sblcl-potential_percentile_25\n",
      "sblcl-potential_percentile_50\n",
      "sblcl-potential_percentile_75\n",
      "sblcl-potential_percentile_90\n",
      "shr06-potential_mean\n",
      "shr06-potential_max\n",
      "shr06-potential_min\n",
      "shr06-potential_std\n",
      "shr06-potential_percentile_10\n",
      "shr06-potential_percentile_25\n",
      "shr06-potential_percentile_50\n",
      "shr06-potential_percentile_75\n",
      "shr06-potential_percentile_90\n",
      "lllr-potential_mean\n",
      "lllr-potential_max\n",
      "lllr-potential_min\n",
      "lllr-potential_std\n",
      "lllr-potential_percentile_10\n",
      "lllr-potential_percentile_25\n",
      "lllr-potential_percentile_50\n",
      "lllr-potential_percentile_75\n",
      "lllr-potential_percentile_90\n",
      "lr75-potential_mean\n",
      "lr75-potential_max\n",
      "lr75-potential_min\n",
      "lr75-potential_std\n",
      "lr75-potential_percentile_10\n",
      "lr75-potential_percentile_25\n",
      "lr75-potential_percentile_50\n",
      "lr75-potential_percentile_75\n",
      "lr75-potential_percentile_90\n",
      "area\n",
      "eccentricity\n",
      "major_axis_length\n",
      "minor_axis_length\n",
      "orientation\n",
      "Matched\n",
      "Max_Hail_Size\n",
      "Num_Matches\n",
      "Shape\n",
      "Location\n",
      "Scale\n",
      "Run_Date\n",
      "Member\n",
      "Centroid_Lon_n\n",
      "Centroid_Lat_n\n",
      "Forecast_Hour_n\n"
     ]
    }
   ],
   "source": [
    "for col in all_tracks[\"thompson\"].columns:\n",
    "    print(col)"
   ]
  },
  {
   "cell_type": "code",
   "execution_count": 118,
   "metadata": {},
   "outputs": [],
   "source": [
    "hour_ind = (all_tracks[\"hailcast\"][\"Run_Date\"] == \"2016-05-24\") & \\\n",
    "           (all_tracks[\"hailcast\"][\"Forecast_Hour\"] == 24) & \\\n",
    "           (all_tracks[\"hailcast\"][\"Member\"] == \"wrf-core01_arw\")\n",
    "hour_tracks = all_tracks[\"hailcast\"].loc[hour_ind]"
   ]
  },
  {
   "cell_type": "code",
   "execution_count": 22,
   "metadata": {},
   "outputs": [
    {
     "data": {
      "text/plain": [
       "<matplotlib.collections.PathCollection at 0x2b72331bf978>"
      ]
     },
     "execution_count": 22,
     "metadata": {},
     "output_type": "execute_result"
    },
    {
     "data": {
      "image/png": "[encoded data removed]",
      "text/plain": [
       "<matplotlib.figure.Figure at 0x2b7232fb9320>"
      ]
     },
     "metadata": {},
     "output_type": "display_data"
    }
   ],
   "source": [
    "plt.scatter(hour_tracks[\"Centroid_Lon\"], hour_tracks[\"Centroid_Lat\"])"
   ]
  },
  {
   "cell_type": "code",
   "execution_count": 122,
   "metadata": {},
   "outputs": [],
   "source": [
    "from scipy.spatial.distance import pdist, squareform\n",
    "coords = hour_tracks[[\"Centroid_Lon\", \"Centroid_Lat\"]].values\n",
    "dist_matrix = squareform(pdist(coords))\n",
    "all_dist_matrix = np.array(dist_matrix[:, :])\n",
    "dist_matrix[np.triu_indices(dist_matrix.shape[0])] = 99999\n",
    "max_dist = 2\n",
    "dist_matrix[dist_matrix > max_dist] = 99999\n",
    "unclustered = list(range(coords.shape[0]))\n",
    "clusters = {}\n",
    "c_num = 0\n",
    "while dist_matrix.min() < 99999:\n",
    "    pair = np.unravel_index(np.argmin(dist_matrix), dist_matrix.shape)\n",
    "    pair_dist = dist_matrix[pair]\n",
    "    if pair[0] in unclustered and pair[1] in unclustered:\n",
    "        for p in pair:\n",
    "            if len(clusters) > 0:\n",
    "                min_cluster_dists = np.zeros(len(clusters))\n",
    "                for c_key in clusters.keys():\n",
    "                    min_cluster_dists[c_key] = all_dist_matrix[p, clusters[c_key]].min()\n",
    "                min_cluster_dist = min_cluster_dists.min()\n",
    "                if min_cluster_dist <= max_dist:\n",
    "                    c_key = min_cluster_dists.argmin()\n",
    "                    clusters[c_key].append(p)\n",
    "                else:\n",
    "                    clusters[c_num] = [p]\n",
    "                    c_num += 1\n",
    "            else:\n",
    "                clusters[c_num] = [p]\n",
    "                c_num += 1\n",
    "            unclustered.remove(p)\n",
    "    elif pair[0] in unclustered and pair[1] not in unclustered:\n",
    "        for c_key in clusters.keys():\n",
    "            if pair[1] in clusters[c_key]:\n",
    "                clusters[c_key].append(pair[0])\n",
    "        unclustered.remove(pair[0])\n",
    "    elif pair[1] in unclustered and pair[0] not in unclustered:\n",
    "        for c_key in clusters.keys():\n",
    "            if pair[0] in clusters[c_key]:\n",
    "                clusters[c_key].append(pair[1])\n",
    "        unclustered.remove(pair[1])\n",
    "\n",
    "    dist_matrix[pair] = 99999\n",
    "for c in unclustered:\n",
    "    clusters[c_num] = c\n",
    "    c_num += 1\n",
    "cluster_array = np.zeros(coords.shape[0])\n",
    "for cluster_num, indices in clusters.items():\n",
    "    cluster_array[indices] = cluster_num"
   ]
  },
  {
   "cell_type": "code",
   "execution_count": 120,
   "metadata": {},
   "outputs": [
    {
     "data": {
      "text/plain": [
       "<matplotlib.collections.PathCollection at 0x2b71e5baf3c8>"
      ]
     },
     "execution_count": 120,
     "metadata": {},
     "output_type": "execute_result"
    },
    {
     "data": {
      "image/png": "[encoded data removed]",
      "text/plain": [
       "<matplotlib.figure.Figure at 0x2b71e5511ef0>"
      ]
     },
     "metadata": {},
     "output_type": "display_data"
    }
   ],
   "source": [
    "plt.figure(figsize=(20, 12))\n",
    "plt.scatter(hour_tracks[\"Centroid_Lon\"], hour_tracks[\"Centroid_Lat\"], 50, cluster_array, cmap=\"tab20\")"
   ]
  },
  {
   "cell_type": "code",
   "execution_count": 117,
   "metadata": {},
   "outputs": [
    {
     "data": {
      "text/plain": [
       "{0: [24, 13, 3, 4],\n",
       " 1: [23, 14, 22, 12, 11, 21],\n",
       " 2: [30, 28, 29, 6, 19, 31, 0, 7, 32, 9],\n",
       " 3: [16, 5],\n",
       " 4: [27, 17],\n",
       " 5: [15, 1, 25],\n",
       " 6: [20, 2],\n",
       " 7: 8,\n",
       " 8: 10,\n",
       " 9: 18,\n",
       " 10: 26,\n",
       " 11: 33}"
      ]
     },
     "execution_count": 117,
     "metadata": {},
     "output_type": "execute_result"
    }
   ],
   "source": [
    "clusters"
   ]
  },
  {
   "cell_type": "code",
   "execution_count": 76,
   "metadata": {},
   "outputs": [
    {
     "data": {
      "text/plain": [
       "<matplotlib.colorbar.Colorbar at 0x2b71e5153198>"
      ]
     },
     "execution_count": 76,
     "metadata": {},
     "output_type": "execute_result"
    },
    {
     "data": {
      "image/png": "[encoded data removed]",
      "text/plain": [
       "<matplotlib.figure.Figure at 0x2b71e511def0>"
      ]
     },
     "metadata": {},
     "output_type": "display_data"
    }
   ],
   "source": [
    "dist_matrix = squareform(pdist(coords))\n",
    "plt.pcolormesh(dist_matrix)\n",
    "plt.colorbar()"
   ]
  },
  {
   "cell_type": "code",
   "execution_count": 77,
   "metadata": {},
   "outputs": [
    {
     "data": {
      "text/plain": [
       "(array([ 80.,  86.,  76.,  72.,  68.,  68.,  64.,  48.,  60.,  74.,  58.,\n",
       "         96.,  96.,  72.,  36.,  10.,  18.,  10.,  12.,   8.,   2.,   4.,\n",
       "          2.,   0.,   2.,   4.,   2.,  10.,  14.,   2.,   0.,   0.,   2.]),\n",
       " array([ 0,  1,  2,  3,  4,  5,  6,  7,  8,  9, 10, 11, 12, 13, 14, 15, 16,\n",
       "        17, 18, 19, 20, 21, 22, 23, 24, 25, 26, 27, 28, 29, 30, 31, 32, 33]),\n",
       " <a list of 33 Patch objects>)"
      ]
     },
     "execution_count": 77,
     "metadata": {},
     "output_type": "execute_result"
    },
    {
     "data": {
      "image/png": "[encoded data removed]",
      "text/plain": [
       "<matplotlib.figure.Figure at 0x2b71e5225dd8>"
      ]
     },
     "metadata": {},
     "output_type": "display_data"
    }
   ],
   "source": [
    "plt.hist(dist_matrix.ravel(), bins=np.arange(34))"
   ]
  },
  {
   "cell_type": "code",
   "execution_count": 75,
   "metadata": {},
   "outputs": [
    {
     "data": {
      "text/plain": [
       "array([[ 99999.,  99999.,  99999., ...,  99999.,  99999.,  99999.],\n",
       "       [ 99999.,  99999.,  99999., ...,  99999.,  99999.,  99999.],\n",
       "       [ 99999.,  99999.,  99999., ...,  99999.,  99999.,  99999.],\n",
       "       ..., \n",
       "       [ 99999.,  99999.,  99999., ...,  99999.,  99999.,  99999.],\n",
       "       [ 99999.,  99999.,  99999., ...,  99999.,  99999.,  99999.],\n",
       "       [ 99999.,  99999.,  99999., ...,  99999.,  99999.,  99999.]])"
      ]
     },
     "execution_count": 75,
     "metadata": {},
     "output_type": "execute_result"
    }
   ],
   "source": [
    "dist_matrix"
   ]
  },
  {
   "cell_type": "code",
   "execution_count": null,
   "metadata": {},
   "outputs": [],
   "source": []
  }
 ],
 "metadata": {
  "kernelspec": {
   "display_name": "Python 3",
   "language": "python",
   "name": "python3"
  },
  "language_info": {
   "codemirror_mode": {
    "name": "ipython",
    "version": 3
   },
   "file_extension": ".py",
   "mimetype": "text/x-python",
   "name": "python",
   "nbconvert_exporter": "python",
   "pygments_lexer": "ipython3",
   "version": "3.6.1"
  }
 },
 "nbformat": 4,
 "nbformat_minor": 1
}
